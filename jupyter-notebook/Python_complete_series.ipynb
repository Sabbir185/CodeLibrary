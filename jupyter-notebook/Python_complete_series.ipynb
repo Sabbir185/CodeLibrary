{
  "nbformat": 4,
  "nbformat_minor": 0,
  "metadata": {
    "colab": {
      "name": "python beginner to advance .ipynb",
      "provenance": [],
      "collapsed_sections": []
    },
    "kernelspec": {
      "name": "python3",
      "display_name": "Python 3"
    },
    "language_info": {
      "name": "python"
    }
  },
  "cells": [
    {
      "cell_type": "markdown",
      "metadata": {
        "id": "WRsSnUjRR8nW"
      },
      "source": [
        "**Basic python**"
      ]
    },
    {
      "cell_type": "code",
      "metadata": {
        "id": "SnMDoo5VC2JX"
      },
      "source": [
        "print('Hello World!')"
      ],
      "execution_count": null,
      "outputs": []
    },
    {
      "cell_type": "markdown",
      "source": [
        "Fundamental data types:\n",
        "1. int\n",
        "2. float\n",
        "3. bool\n",
        "4. str\n",
        "5. list \n",
        "6. tuple\n",
        "7. set\n",
        "8. dict"
      ],
      "metadata": {
        "id": "2fZJl4q6Ai_c"
      }
    },
    {
      "cell_type": "code",
      "source": [
        "print( type(3) )\n",
        "print( type(-2) )\n",
        "print( type(2/3) , (2/3) )\n",
        "print( type(2//3), (2//3) )\n",
        "print( type('sabbir'))\n",
        "print( type(1==1))\n",
        "print( type(2+3.2) )\n",
        "print( 2**3 )\n",
        "print( 5 % 4 )"
      ],
      "metadata": {
        "id": "Ek_6cXD1BTKJ"
      },
      "execution_count": null,
      "outputs": []
    },
    {
      "cell_type": "markdown",
      "source": [
        "Python's some math operation:"
      ],
      "metadata": {
        "id": "O5PY_QfKHU1k"
      }
    },
    {
      "cell_type": "code",
      "source": [
        "import math\n",
        "\n",
        "print( math.ceil(5.5),' , ', math.ceil(4.2) )\n",
        "\n",
        "print( math.fabs(-5.5) )\n",
        "\n",
        "print( math.sqrt(25) )\n",
        "\n",
        "print( math.pow(5, 2) )\n",
        "\n",
        "print( math.floor(6.6) )\n",
        "\n",
        "print( math.pi )\n",
        "\n",
        "print( round( math.pi ) )\n",
        "\n",
        "print( max(2,5,1) )\n",
        "\n",
        "print( min(2,5,1) )\n",
        "\n",
        "print( abs(-9) )\n",
        "\n",
        "print( round(math.pi, 2) )  #two decimal place\n",
        "\n",
        "print( f'{math.pi:.2f}' )   #two decimal place\n",
        "\n",
        "print( math.isnan(10) )\n",
        "\n",
        "print( bin(5) )  # binary representation\n",
        "\n",
        "print( int('0b101', 2))  # binary to decimal"
      ],
      "metadata": {
        "id": "OoE5rsDkHaaD"
      },
      "execution_count": null,
      "outputs": []
    },
    {
      "cell_type": "markdown",
      "source": [
        "Operator precedence:\n",
        "1. ()\n",
        "2. **\n",
        "3. / or *\n",
        "4. ' + ' or ' - '"
      ],
      "metadata": {
        "id": "mSIg-L1dPGK9"
      }
    },
    {
      "cell_type": "code",
      "source": [
        "print( (20-2) + 2**2 + 5 - 2 )    # 25"
      ],
      "metadata": {
        "id": "rUxnfe1UPVLO"
      },
      "execution_count": null,
      "outputs": []
    },
    {
      "cell_type": "markdown",
      "source": [
        "**the rules of variable declare, almost all programming languages are same** "
      ],
      "metadata": {
        "id": "uIcIMGZATaeR"
      }
    },
    {
      "cell_type": "code",
      "source": [
        ""
      ],
      "metadata": {
        "id": "jmdR-yIqT06I"
      },
      "execution_count": null,
      "outputs": []
    }
  ]
}