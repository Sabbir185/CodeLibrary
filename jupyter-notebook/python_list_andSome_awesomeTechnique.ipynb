{
 "cells": [
  {
   "cell_type": "code",
   "execution_count": 3,
   "metadata": {},
   "outputs": [
    {
     "name": "stdout",
     "output_type": "stream",
     "text": [
      "\n",
      "This is new line\n"
     ]
    }
   ],
   "source": [
    "print(\"\\nThis is new line\")"
   ]
  },
  {
   "cell_type": "code",
   "execution_count": 4,
   "metadata": {
    "scrolled": true
   },
   "outputs": [
    {
     "name": "stdout",
     "output_type": "stream",
     "text": [
      "Sabbir \n",
      "Sabbir \n",
      "Sabbir \n",
      "Sabbir \n",
      "Sabbir \n",
      "\n"
     ]
    }
   ],
   "source": [
    "print(('Sabbir \\n')*5)"
   ]
  },
  {
   "cell_type": "code",
   "execution_count": 13,
   "metadata": {},
   "outputs": [
    {
     "name": "stdout",
     "output_type": "stream",
     "text": [
      "Enter number of subject : 3\n",
      "Enter your bangla mark : 80\n",
      "Enter your english mark : 90\n",
      "Enter your math mark : 85\n",
      "[5, 5, 5]\n"
     ]
    }
   ],
   "source": [
    "def gpaCount(n):\n",
    "#     gpa = 0\n",
    "    if n >= 80 and n<=100:\n",
    "        return 5\n",
    "    elif n >= 70 and n<=79:\n",
    "         return 4\n",
    "    elif n >= 60 and n<=69:\n",
    "        return 3.5\n",
    "    elif n >= 50 and n<=59:\n",
    "        return 3\n",
    "    elif n >= 40 and n<=49:\n",
    "        return 2\n",
    "    elif n >= 33 and n<=39:\n",
    "        return 1\n",
    "    else:\n",
    "        return 0\n",
    "        \n",
    "        \n",
    "def calculate(cgpa,subject):\n",
    "    cnt = 0\n",
    "    for i in subject:\n",
    "        if cgpa[i] == 0:\n",
    "            cnt += 1\n",
    "            print(\"Fail , {} subjects\",cnt)\n",
    "            \n",
    "    if gpa==0:\n",
    "        print('Fail')\n",
    "    else:\n",
    "        cgpa = gpa / 2 \n",
    "        print(\"Your result is : \",cgpa)\n",
    "        \n",
    "        \n",
    "\n",
    "subject = int(input(\"Enter number of subject : \"))\n",
    "bangla = int(input(\"Enter your bangla mark : \"))\n",
    "english = int(input(\"Enter your english mark : \"))\n",
    "math = int(input(\"Enter your math mark : \"))\n",
    "\n",
    "cgpa = []\n",
    "cgpa.append(gpaCount(bangla))\n",
    "cgpa.append(gpaCount(english))\n",
    "cgpa.append(gpaCount(math))\n",
    "# calculate(cgpa,subject)\n",
    "print(cgpa)\n",
    "\n"
   ]
  },
  {
   "cell_type": "code",
   "execution_count": null,
   "metadata": {},
   "outputs": [],
   "source": []
  },
  {
   "cell_type": "markdown",
   "metadata": {},
   "source": [
    "# Simple cgpa calculation"
   ]
  },
  {
   "cell_type": "code",
   "execution_count": 8,
   "metadata": {},
   "outputs": [
    {
     "name": "stdout",
     "output_type": "stream",
     "text": [
      "Enter your physics mark : 88\n",
      "Enter your chemistry mark : 75\n",
      "Enter your math mark : 55\n",
      "2.67\n"
     ]
    }
   ],
   "source": [
    "physics = int(input('Enter your physics mark : '))\n",
    "chemistry = int(input(\"Enter your chemistry mark : \"))\n",
    "math = int(input(\"Enter your math mark : \"))\n",
    "cgpa = 0\n",
    "\n",
    "if physics>=80 and physics<=100:\n",
    "    cgpa = cgpa + 4\n",
    "elif physics>=70 and physics<=79:\n",
    "    cgpa = cgpa + 3\n",
    "elif physics>=60 and physics<=69:\n",
    "    cgpa = cgpa + 2\n",
    "elif physics>=50 and physics<=59:\n",
    "    cgpa = cgpa + 1\n",
    "else:\n",
    "    cgpa = cgpa + 0\n",
    "    \n",
    "\n",
    "if chemistry>=80 and chemistry<=100:\n",
    "    cgpa = cgpa + 4\n",
    "elif chemistry>=70 and chemistry<=79:\n",
    "    cgpa = cgpa + 3\n",
    "elif chemistry>=60 and chemistry<=69:\n",
    "    cgpa = cgpa + 2\n",
    "elif chemistry>=50 and chemistry<=59:\n",
    "    cgpa = cgpa + 1\n",
    "else:\n",
    "    cgpa = cgpa + 0\n",
    "    \n",
    "    \n",
    "if 80<=math<=100:            # awesome feature\n",
    "    cgpa = cgpa + 4\n",
    "elif 70<=math<=79:\n",
    "    cgpa = cgpa + 3\n",
    "elif 60<=math<=69:\n",
    "    cgpa = cgpa + 2\n",
    "elif 50<=math<=59:\n",
    "    cgpa = cgpa + 1\n",
    "else:\n",
    "    cgpa = cgpa + 0\n",
    "    \n",
    "    \n",
    "result = cgpa/3\n",
    "print(\"%.2f\"%result)"
   ]
  },
  {
   "cell_type": "markdown",
   "metadata": {},
   "source": [
    "# list \n",
    "## insert , remove , replace  and update\n",
    "### insert(index,value) ,  append(value),  list[index] = value\n",
    "### remove(value),   pop(index),   pop(),  pop(-index),    del list[index]"
   ]
  },
  {
   "cell_type": "code",
   "execution_count": 11,
   "metadata": {
    "scrolled": true
   },
   "outputs": [
    {
     "name": "stdout",
     "output_type": "stream",
     "text": [
      "Enter list elements : 10\n",
      "Enter list elements : 11\n",
      "Enter list elements : 33\n",
      "Enter list elements : 50\n",
      "Enter list elements : 25\n",
      "[10, 11, 33, 50, 25]\n",
      "10  is Even\n",
      "11  is odd\n",
      "33  is odd\n",
      "50  is Even\n",
      "25  is odd\n"
     ]
    }
   ],
   "source": [
    "num_list = []\n",
    "for i in range(5):\n",
    "    num = int(input(\"Enter list elements : \"))\n",
    "    num_list.append(num)\n",
    "print(num_list)\n",
    "for arr in num_list:\n",
    "    if arr%2 == 0:\n",
    "        print(arr,\" is Even\")\n",
    "    else:\n",
    "        print(arr,\" is odd\")"
   ]
  },
  {
   "cell_type": "code",
   "execution_count": 15,
   "metadata": {},
   "outputs": [
    {
     "name": "stdout",
     "output_type": "stream",
     "text": [
      "size =  8   [2, 3, 1, 4, 6, 5, 4, 11]\n",
      "size =  7   [2, 3, 1, 6, 5, 4, 11]\n",
      "size =  6   [2, 3, 1, 6, 4, 11]\n",
      "size =  6   [2, 9, 1, 77, 4, 11]\n"
     ]
    }
   ],
   "source": [
    "lst = [2,3,1,4,6,5,4]\n",
    "\n",
    "lst.append(11)                  # to insert a value ; append() always add value at the end of list\n",
    "\n",
    "print('size = ',len(lst) , ' ', lst)\n",
    "\n",
    "del lst[3]                      # to remove an item del is to be used , in this case index 3 will be removed\n",
    "\n",
    "print('size = ',len(lst) , ' ', lst)\n",
    "\n",
    "lst.remove(5)                    # remove() take value to remove and for multipale case , it will remove first value\n",
    "\n",
    "print('size = ',len(lst) , ' ', lst)\n",
    "\n",
    "lst[3] = 77                      # to replace or update list, index must to call to replace\n",
    "lst[1] = 9\n",
    "\n",
    "print('size = ',len(lst) , ' ', lst)"
   ]
  },
  {
   "cell_type": "code",
   "execution_count": 8,
   "metadata": {},
   "outputs": [
    {
     "name": "stdout",
     "output_type": "stream",
     "text": [
      "length :  7\n",
      "[43, 23, 12, 67, 84, 95, 75]\n",
      "[43, 23, 7, 12, 67, 84, 95, 75]\n",
      "length :  8\n"
     ]
    }
   ],
   "source": [
    "listPy = [43, 23, 12, 67, 84, 95, 75]\n",
    "print( 'length : ', len(listPy) )\n",
    "print( listPy )\n",
    "\n",
    "listPy.insert(2,7)           # insert() method take two parameter ; index and value ; index what we want to insert a value\n",
    "\n",
    "print( listPy )\n",
    "print( 'length : ', len(listPy) )\n",
    "\n",
    "listPy.insert(0,3)          # we can insert value at the begining by using inser() method"
   ]
  },
  {
   "cell_type": "code",
   "execution_count": 15,
   "metadata": {
    "scrolled": true
   },
   "outputs": [
    {
     "name": "stdout",
     "output_type": "stream",
     "text": [
      "['Python', 'Java', 'C++', 'C']\n",
      "if pop() does not take index , it remove end value from the list\n",
      "['Python', 'Java', 'C++']\n",
      "we can use -index , it count from end to start: for example -2 ; means it will remove Java\n",
      "['Python', 'C++']\n"
     ]
    }
   ],
   "source": [
    "languages = ['Python', 'Java', 'C++', 'French', 'C']\n",
    "\n",
    "languages.pop(3)   # to remove item , pop() method take single index input.\n",
    "print( languages )\n",
    "\n",
    "print('if pop() does not take index , it remove end value from the list')\n",
    "languages.pop()\n",
    "print(languages)\n",
    "\n",
    "print('we can use -index , it count from end to start: for example -2 ; means it will remove Java')\n",
    "languages.pop(-2)          # -1 means last value ( end item )\n",
    "print(languages)"
   ]
  },
  {
   "cell_type": "markdown",
   "metadata": {},
   "source": [
    "## reverse() list"
   ]
  },
  {
   "cell_type": "code",
   "execution_count": 19,
   "metadata": {},
   "outputs": [
    {
     "name": "stdout",
     "output_type": "stream",
     "text": [
      "Main list :  ['C', 'C++', 'Java', 'Python', 'C#', 'JavaScript']\n",
      "Reverse() list :  ['JavaScript', 'C#', 'Python', 'Java', 'C++', 'C']\n",
      "slice list :  ['C', 'C++', 'Java', 'Python', 'C#', 'JavaScript']\n"
     ]
    }
   ],
   "source": [
    "listReverse = ['C', 'C++', 'Java', 'Python', 'C#', 'JavaScript']\n",
    "print('Main list : ',listReverse)\n",
    "\n",
    "listReverse.reverse()         # reverse() doesnot take any argument\n",
    "\n",
    "print(\"Reverse() list : \",listReverse)\n",
    "\n",
    "# using sliceing method\n",
    "\n",
    "print(\"slice list : \", listReverse[::-1] )\n"
   ]
  },
  {
   "cell_type": "markdown",
   "metadata": {},
   "source": [
    "## sort()"
   ]
  },
  {
   "cell_type": "code",
   "execution_count": 23,
   "metadata": {
    "scrolled": true
   },
   "outputs": [
    {
     "name": "stdout",
     "output_type": "stream",
     "text": [
      "ascending order :  ['a', 'e', 'i', 'o', 'u']\n",
      "descending order :  ['u', 'o', 'i', 'e', 'a']\n"
     ]
    }
   ],
   "source": [
    "listVowel = ['i','o','u','a','e']\n",
    "listVowel.sort()     # ascending order\n",
    "print('ascending order : ',listVowel)\n",
    " \n",
    "listVowel.sort(reverse=True)     # descending order\n",
    "print('descending order : ',listVowel)\n"
   ]
  },
  {
   "cell_type": "markdown",
   "metadata": {},
   "source": [
    "## copy()"
   ]
  },
  {
   "cell_type": "code",
   "execution_count": 34,
   "metadata": {
    "scrolled": true
   },
   "outputs": [
    {
     "name": "stdout",
     "output_type": "stream",
     "text": [
      "['sabbir', 'mustakim', 'ayan']\n",
      "['sabbir', 'mustakim', 'ayan', 'shahnaz', 'momotaz']\n",
      "['sabbir', 'mustakim', 'ayan', 'shahnaz', 'momotaz', 'panzab', 'hira']  <--- brandNew list \n"
     ]
    }
   ],
   "source": [
    "listName = ['sabbir','mustakim','ayan']\n",
    "\n",
    "print( listName )\n",
    " \n",
    "newList = listName.copy()                 # this method is save than newList = listName\n",
    "\n",
    "newList.append( 'shahnaz' )\n",
    "newList.append( 'momotaz' )\n",
    "\n",
    "print( newList )\n",
    "\n",
    "\n",
    "\n",
    "\n",
    "# using slice method , list copy\n",
    "\n",
    "brandNew = newList[:]                 # this method is also save than brandNew = newList\n",
    "\n",
    "brandNew.append('panzab')\n",
    "brandNew.append('hira')\n",
    "\n",
    "print(brandNew ,\" <--- brandNew list \" )"
   ]
  },
  {
   "cell_type": "markdown",
   "metadata": {},
   "source": [
    "## list clear method / process"
   ]
  },
  {
   "cell_type": "code",
   "execution_count": 37,
   "metadata": {},
   "outputs": [
    {
     "name": "stdout",
     "output_type": "stream",
     "text": [
      "Using clear() method  :   []\n",
      "Using clear() method  :   []\n"
     ]
    }
   ],
   "source": [
    "hotList = ['barger','cake','lacci','fucca']\n",
    "\n",
    "hotList.clear()      # clear() doesnot take any arguments\n",
    "\n",
    "print(\"Using clear() method  :  \", hotList )\n",
    "\n",
    "\n",
    "# using slice technique\n",
    "coolList = ['barger','cake','lacci','fucca']\n",
    "\n",
    "del coolList[:]      # so cool ! using del and slice\n",
    "\n",
    "print(\"Using clear() method  :  \", coolList )"
   ]
  },
  {
   "cell_type": "markdown",
   "metadata": {},
   "source": [
    "## count()"
   ]
  },
  {
   "cell_type": "code",
   "execution_count": 41,
   "metadata": {},
   "outputs": [
    {
     "name": "stdout",
     "output_type": "stream",
     "text": [
      "Item has :  2  times\n",
      "Item has :  1  times\n",
      "Item has :  2  times\n"
     ]
    }
   ],
   "source": [
    "countItem = [1,2,3,4,2,55,1,7,9]\n",
    "\n",
    "item = countItem.count(2)        # count() tells us how many time it occurs in the list\n",
    "\n",
    "print(\"Item has : \", item ,\" times\")\n",
    "\n",
    "three = countItem.count(3) \n",
    "\n",
    "print(\"Item has : \", three ,\" times\")\n",
    "\n",
    "random = ['a', ('a', 'b'), ('a', 'b'), [3, 4]]\n",
    "\n",
    "vlaue = random.count(('a', 'b'))\n",
    "\n",
    "print(\"Item has : \", vlaue ,\" times\")"
   ]
  },
  {
   "cell_type": "markdown",
   "metadata": {},
   "source": [
    "## index()"
   ]
  },
  {
   "cell_type": "code",
   "execution_count": 47,
   "metadata": {},
   "outputs": [
    {
     "name": "stdout",
     "output_type": "stream",
     "text": [
      "The index of e: 1\n",
      "The index of i: 2\n",
      "5\n"
     ]
    }
   ],
   "source": [
    "vowels = ['a', 'e', 'i', 'o', 'i', 'u']\n",
    "\n",
    "# index of 'e' in vowels\n",
    "index = vowels.index('e')\n",
    "print('The index of e:', index)\n",
    "\n",
    "# element 'i' is searched\n",
    "                                # index of the first 'i' is returned , it is the problem of dublicate value\n",
    "index = vowels.index('i')\n",
    "\n",
    "print('The index of i:', index)\n",
    "\n",
    "index = vowels.index(\"u\")\n",
    "print(index)"
   ]
  },
  {
   "cell_type": "markdown",
   "metadata": {},
   "source": [
    "## extend() "
   ]
  },
  {
   "cell_type": "code",
   "execution_count": 52,
   "metadata": {},
   "outputs": [
    {
     "name": "stdout",
     "output_type": "stream",
     "text": [
      "So cool ! add two list :  ['French', 'English', 'Spanish', 'Portuguese']\n"
     ]
    }
   ],
   "source": [
    "# languages list\n",
    "languages = ['French', 'English']\n",
    "\n",
    "# another list of language\n",
    "languages1 = ['Spanish', 'Portuguese']\n",
    "\n",
    "languages.extend(languages1)\n",
    "\n",
    "print(\"So cool ! add two list : \", languages )  # print be carefully , select correct list"
   ]
  },
  {
   "cell_type": "code",
   "execution_count": null,
   "metadata": {},
   "outputs": [],
   "source": []
  },
  {
   "cell_type": "code",
   "execution_count": null,
   "metadata": {},
   "outputs": [],
   "source": []
  },
  {
   "cell_type": "markdown",
   "metadata": {},
   "source": [
    "### 2D array or list"
   ]
  },
  {
   "cell_type": "code",
   "execution_count": 1,
   "metadata": {},
   "outputs": [
    {
     "name": "stdout",
     "output_type": "stream",
     "text": [
      "[2, 4, 5]\n",
      "4\n"
     ]
    }
   ],
   "source": [
    "two_d_arr = [2,11,[2,4,5],55,33]\n",
    "print( two_d_arr[2] )            # it will print index 2\n",
    "print( two_d_arr[2][1] )         # # it will print index 2's inside index 1 value : it is a 2D array or list"
   ]
  },
  {
   "cell_type": "markdown",
   "metadata": {},
   "source": [
    "### 3D array or list ; array of array of array"
   ]
  },
  {
   "cell_type": "code",
   "execution_count": 3,
   "metadata": {},
   "outputs": [
    {
     "name": "stdout",
     "output_type": "stream",
     "text": [
      "[[21, 16, 7], 11, 45]\n",
      "[21, 16, 7]\n",
      "16\n"
     ]
    }
   ],
   "source": [
    "threeDList = [[1,2,3], [[21,16,7],11,45], [87,68,69]]   # index 2 3D list\n",
    "print( threeDList[1] )         # 1D\n",
    "print( threeDList[1][0] )      # 2D\n",
    "print( threeDList[1][0][1] )   # 3D , want to accecc 16"
   ]
  },
  {
   "cell_type": "markdown",
   "metadata": {},
   "source": [
    "# take input one line "
   ]
  },
  {
   "cell_type": "code",
   "execution_count": 4,
   "metadata": {
    "scrolled": true
   },
   "outputs": [
    {
     "name": "stdout",
     "output_type": "stream",
     "text": [
      "Enter numbers : 22 1 5 33 44 10 23 0\n",
      "[22, 1, 5, 33, 44, 10, 23, 0]\n",
      "22  is even\n",
      "1  is odd\n",
      "5  is odd\n",
      "33  is odd\n",
      "44  is even\n",
      "10  is even\n",
      "23  is odd\n",
      "0  is even\n"
     ]
    }
   ],
   "source": [
    "arr = list(map(int,input('Enter numbers : ').split()))\n",
    "print(arr)\n",
    "for num in arr:\n",
    "    if num%2==0:\n",
    "        print(num,\" is even\")\n",
    "    else:\n",
    "        print(num,\" is odd\")\n",
    "    "
   ]
  },
  {
   "cell_type": "markdown",
   "metadata": {},
   "source": [
    "# while loop\n"
   ]
  },
  {
   "cell_type": "code",
   "execution_count": 2,
   "metadata": {},
   "outputs": [
    {
     "name": "stdout",
     "output_type": "stream",
     "text": [
      "Enter number : 11\n",
      "Enter number : 55\n",
      "Enter number : 13\n",
      "Enter number : 55\n",
      "Enter number : 77\n",
      "[11, 55, 13, 55, 77]\n"
     ]
    }
   ],
   "source": [
    "arr_list = []\n",
    "while 1==1:                             # while True:\n",
    "    n = int(input(\"Enter number : \"))\n",
    "    arr_list.append(n)\n",
    "    if len(arr_list) == 5:       # this is awesome condition\n",
    "        break\n",
    "print(arr_list)"
   ]
  },
  {
   "cell_type": "markdown",
   "metadata": {},
   "source": [
    "# Math import , and for exit() sys\n"
   ]
  },
  {
   "cell_type": "code",
   "execution_count": 1,
   "metadata": {},
   "outputs": [
    {
     "data": {
      "text/plain": [
       "9.0"
      ]
     },
     "execution_count": 1,
     "metadata": {},
     "output_type": "execute_result"
    }
   ],
   "source": [
    "import math\n",
    "import sys\n",
    "n = math.pow(3,2)\n",
    "n"
   ]
  },
  {
   "cell_type": "code",
   "execution_count": null,
   "metadata": {},
   "outputs": [],
   "source": []
  }
 ],
 "metadata": {
  "kernelspec": {
   "display_name": "Python 3",
   "language": "python",
   "name": "python3"
  },
  "language_info": {
   "codemirror_mode": {
    "name": "ipython",
    "version": 3
   },
   "file_extension": ".py",
   "mimetype": "text/x-python",
   "name": "python",
   "nbconvert_exporter": "python",
   "pygments_lexer": "ipython3",
   "version": "3.8.5"
  }
 },
 "nbformat": 4,
 "nbformat_minor": 4
}
