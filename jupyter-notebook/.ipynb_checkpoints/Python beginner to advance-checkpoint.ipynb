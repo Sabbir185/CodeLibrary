{
 "cells": [
  {
   "cell_type": "markdown",
   "id": "1070e9e0",
   "metadata": {},
   "source": [
    "### Basic concept"
   ]
  },
  {
   "cell_type": "code",
   "execution_count": 16,
   "id": "f3daa6f8",
   "metadata": {},
   "outputs": [
    {
     "name": "stdout",
     "output_type": "stream",
     "text": [
      "Hello world!\n"
     ]
    }
   ],
   "source": [
    "print(\"Hello world!\")"
   ]
  },
  {
   "cell_type": "code",
   "execution_count": 17,
   "id": "bf6dbcbc",
   "metadata": {
    "scrolled": true
   },
   "outputs": [
    {
     "name": "stdout",
     "output_type": "stream",
     "text": [
      "What is your name? Sabbir\n",
      "My name is Sabbir\n"
     ]
    }
   ],
   "source": [
    "name = input('What is your name? ')\n",
    "print('My name is '+ name)"
   ]
  },
  {
   "cell_type": "code",
   "execution_count": 18,
   "id": "b1c2b29c",
   "metadata": {
    "scrolled": true
   },
   "outputs": [
    {
     "name": "stdout",
     "output_type": "stream",
     "text": [
      "Enter first number = 2\n",
      "Enter second number = 3\n",
      "Sum is =  5  type : of num1  <class 'int'>  type : of num2  <class 'int'>\n"
     ]
    }
   ],
   "source": [
    "num1 = int(input('Enter first number = '))\n",
    "num2 = int(input('Enter second number = '))\n",
    "res = num1 + num2\n",
    "print('Sum is = ', res, ' type : of num1 ', type(num1), ' type : of num2 ', type(num2))"
   ]
  },
  {
   "cell_type": "markdown",
   "id": "698cc5cd",
   "metadata": {},
   "source": [
    "#### Variable just a container. Five pen put into a container. Here pens are data and container is variable :) "
   ]
  },
  {
   "cell_type": "markdown",
   "id": "6c2d93c0",
   "metadata": {},
   "source": [
    "### Datatype"
   ]
  },
  {
   "cell_type": "markdown",
   "id": "4941f3bb",
   "metadata": {},
   "source": [
    "###### 1. Primitive --> int, float, character, string, boolean\n",
    "\n",
    "###### 2. Non-primitive --> Linear and non-linear\n",
    "\n",
    "######   i) linear -> static and dynamic\n",
    "   \n",
    "######      1) static --> array  \n",
    "######      2) dynamic --> linklist, stack, queue\n",
    "    \n",
    "######   ii) non-linear --> tree, graph\n",
    "    "
   ]
  },
  {
   "cell_type": "code",
   "execution_count": 6,
   "id": "e887f6ea",
   "metadata": {},
   "outputs": [
    {
     "name": "stdout",
     "output_type": "stream",
     "text": [
      "number = <class 'int'>, str = <class 'str'>, double = <class 'float'>\n"
     ]
    }
   ],
   "source": [
    "n = 10\n",
    "name = 'sabbir'\n",
    "d = 3/2\n",
    "\n",
    "print(f'number = {type(n)}, str = {type(name)}, double = {type(d)}')"
   ]
  },
  {
   "cell_type": "code",
   "execution_count": null,
   "id": "c9fa468d",
   "metadata": {},
   "outputs": [],
   "source": []
  }
 ],
 "metadata": {
  "kernelspec": {
   "display_name": "Python 3 (ipykernel)",
   "language": "python",
   "name": "python3"
  },
  "language_info": {
   "codemirror_mode": {
    "name": "ipython",
    "version": 3
   },
   "file_extension": ".py",
   "mimetype": "text/x-python",
   "name": "python",
   "nbconvert_exporter": "python",
   "pygments_lexer": "ipython3",
   "version": "3.9.6"
  }
 },
 "nbformat": 4,
 "nbformat_minor": 5
}
