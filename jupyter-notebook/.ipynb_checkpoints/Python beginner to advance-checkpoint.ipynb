{
 "cells": [
  {
   "cell_type": "markdown",
   "id": "719134fe",
   "metadata": {},
   "source": [
    "### Basic concept"
   ]
  },
  {
   "cell_type": "code",
   "execution_count": 4,
   "id": "89dee928",
   "metadata": {},
   "outputs": [
    {
     "name": "stdout",
     "output_type": "stream",
     "text": [
      "Hello world!\n"
     ]
    }
   ],
   "source": [
    "print(\"Hello world!\")"
   ]
  },
  {
   "cell_type": "code",
   "execution_count": 5,
   "id": "4cca6bf6",
   "metadata": {},
   "outputs": [
    {
     "name": "stdout",
     "output_type": "stream",
     "text": [
      "What is your name? Sabbir\n",
      "My name is Sabbir\n"
     ]
    }
   ],
   "source": [
    "name = input('What is your name? ')\n",
    "print('My name is '+ name)"
   ]
  },
  {
   "cell_type": "code",
   "execution_count": 12,
   "id": "e0978e5a",
   "metadata": {},
   "outputs": [
    {
     "name": "stdout",
     "output_type": "stream",
     "text": [
      "Enter first number = 2\n",
      "Enter second number = 3\n",
      "Sum is =  5  type : of num1  <class 'int'>  type : of num2  <class 'int'>\n"
     ]
    }
   ],
   "source": [
    "num1 = int(input('Enter first number = '))\n",
    "num2 = int(input('Enter second number = '))\n",
    "res = num1 + num2\n",
    "print('Sum is = ', res, ' type : of num1 ', type(num1), ' type : of num2 ', type(num2))"
   ]
  },
  {
   "cell_type": "code",
   "execution_count": null,
   "id": "1df53b0e",
   "metadata": {},
   "outputs": [],
   "source": []
  }
 ],
 "metadata": {
  "kernelspec": {
   "display_name": "Python 3 (ipykernel)",
   "language": "python",
   "name": "python3"
  },
  "language_info": {
   "codemirror_mode": {
    "name": "ipython",
    "version": 3
   },
   "file_extension": ".py",
   "mimetype": "text/x-python",
   "name": "python",
   "nbconvert_exporter": "python",
   "pygments_lexer": "ipython3",
   "version": "3.9.6"
  }
 },
 "nbformat": 4,
 "nbformat_minor": 5
}
