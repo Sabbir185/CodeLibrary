{
  "nbformat": 4,
  "nbformat_minor": 0,
  "metadata": {
    "colab": {
      "name": "python beginner to advance .ipynb",
      "provenance": [],
      "collapsed_sections": []
    },
    "kernelspec": {
      "name": "python3",
      "display_name": "Python 3"
    },
    "language_info": {
      "name": "python"
    }
  },
  "cells": [
    {
      "cell_type": "markdown",
      "metadata": {
        "id": "WRsSnUjRR8nW"
      },
      "source": [
        "**All about python by Sabbir Ahmmed, Dept. of CSE, NUBTK**\n",
        "@sabbir185"
      ]
    },
    {
      "cell_type": "code",
      "metadata": {
        "id": "SnMDoo5VC2JX"
      },
      "source": [
        "print('Hello World! 1st variable, 2nd output then input, data types')"
      ],
      "execution_count": null,
      "outputs": []
    },
    {
      "cell_type": "markdown",
      "source": [
        "Fundamental data types:\n",
        "1. int\n",
        "2. float\n",
        "3. bool\n",
        "4. str\n",
        "5. list \n",
        "6. tuple\n",
        "7. set\n",
        "8. dict"
      ],
      "metadata": {
        "id": "2fZJl4q6Ai_c"
      }
    },
    {
      "cell_type": "code",
      "source": [
        "print( type(3) )\n",
        "print( type(-2) )\n",
        "print( type(2/3) , (2/3) )\n",
        "print( type(2//3), (2//3) )\n",
        "print( type('sabbir'))\n",
        "print( type(1==1))\n",
        "print( type(2+3.2) )\n",
        "print( 2**3 )\n",
        "print( 5 % 4 )"
      ],
      "metadata": {
        "id": "Ek_6cXD1BTKJ"
      },
      "execution_count": null,
      "outputs": []
    },
    {
      "cell_type": "markdown",
      "source": [
        "Python's some math operation:"
      ],
      "metadata": {
        "id": "O5PY_QfKHU1k"
      }
    },
    {
      "cell_type": "code",
      "source": [
        "import math\n",
        "\n",
        "print( math.ceil(5.5),' , ', math.ceil(4.2) )\n",
        "\n",
        "print( math.fabs(-5.5) )\n",
        "\n",
        "print( math.sqrt(25) )\n",
        "\n",
        "print( math.pow(5, 2) )\n",
        "\n",
        "print( math.floor(6.6) )\n",
        "\n",
        "print( math.pi )\n",
        "\n",
        "print( round( math.pi ) )\n",
        "\n",
        "print( max(2,5,1) )\n",
        "\n",
        "print( min(2,5,1) )\n",
        "\n",
        "print( abs(-9) )\n",
        "\n",
        "print( round(math.pi, 2) )  #two decimal place\n",
        "\n",
        "print( f'{math.pi:.2f}' )   #two decimal place\n",
        "\n",
        "print( math.isnan(10) )\n",
        "\n",
        "print( bin(5) )  # binary representation\n",
        "\n",
        "print( int('0b101', 2))  # binary to decimal"
      ],
      "metadata": {
        "id": "OoE5rsDkHaaD"
      },
      "execution_count": null,
      "outputs": []
    },
    {
      "cell_type": "markdown",
      "source": [
        "Operator precedence:\n",
        "1. ()\n",
        "2. **\n",
        "3. / or *\n",
        "4. ' + ' or ' - '"
      ],
      "metadata": {
        "id": "mSIg-L1dPGK9"
      }
    },
    {
      "cell_type": "code",
      "source": [
        "print( (20-2) + 2**2 + 5 - 2 )    # 25"
      ],
      "metadata": {
        "id": "rUxnfe1UPVLO"
      },
      "execution_count": null,
      "outputs": []
    },
    {
      "cell_type": "markdown",
      "source": [
        "**the rules of variable declare, almost all programming languages are same** "
      ],
      "metadata": {
        "id": "uIcIMGZATaeR"
      }
    },
    {
      "cell_type": "code",
      "source": [
        "# variables are case sensetive\n",
        "# variable never start from number or special character ( except underscore _ )\n",
        "# python variable convention rules are : snake-case, PascalCase, chamelCase\n",
        "country_name = \"Bangladesh\" #snake-case\n",
        "countryName = \"USA\"         #camelCase\n",
        "CountryName = \"India\"       #PascalCase"
      ],
      "metadata": {
        "id": "NhJPGxGuJ1xg"
      },
      "execution_count": 14,
      "outputs": []
    },
    {
      "cell_type": "markdown",
      "source": [
        "**Output format**"
      ],
      "metadata": {
        "id": "mr_eLvricfvm"
      }
    },
    {
      "cell_type": "code",
      "source": [
        "# format 1\n",
        "name = \"sabbir\"\n",
        "n = 'My name is {}'\n",
        "print(n.format(name))\n",
        "\n",
        "# format 2\n",
        "print('My name is {}. I am a {}.'.format('Jubayer', 'student'))\n",
        "\n",
        "# format 3\n",
        "country = \"Bangladesh\"\n",
        "capital = \"Dhaka\"\n",
        "print(f'Country name is {country} and Capital name is {capital}')\n",
        "\n",
        "# float number decimal place\n",
        "PI = 3.1416\n",
        "print(f'PI 2number decimal place is {PI:.2f} ')"
      ],
      "metadata": {
        "id": "9750r8Y0cQsf"
      },
      "execution_count": null,
      "outputs": []
    },
    {
      "cell_type": "code",
      "source": [
        "# python memory management is awesome, for different variables but same value, it doesn't take different address\n",
        "x = 10\n",
        "y = 10\n",
        "print( id(x) )\n",
        "\n",
        "print( id(y) )\n",
        "\n",
        "print( id(y+1) )"
      ],
      "metadata": {
        "id": "jmdR-yIqT06I"
      },
      "execution_count": null,
      "outputs": []
    },
    {
      "cell_type": "markdown",
      "source": [
        "**Python input**"
      ],
      "metadata": {
        "id": "tpEbL1k0fVOL"
      }
    },
    {
      "cell_type": "code",
      "source": [
        "import math\n",
        "name = input() # by default takes string input\n",
        "print(name)\n",
        "\n",
        "num1 = int(input(\"Enter 1st number : \"))\n",
        "num2 = float(input(\"Enter 2nd number : \"))\n",
        "sum = num1 + num2   # auto type casting\n",
        "print(sum)\n",
        "type(sum)\n",
        "\n",
        "# number type casting or converting\n",
        "n = 10\n",
        "m = 12.4\n",
        "k = 15.5\n",
        "sum = n + int(m)\n",
        "print(sum)\n",
        "type(sum)\n",
        "\n",
        "# string casting\n",
        "num3 = '5'\n",
        "num4 = 4\n",
        "\n",
        "print(type(num3))\n",
        "\n",
        "sum = int(num3) + num4\n",
        "\n",
        "print(type( int(num3) ))\n",
        "print(sum)\n",
        "\n"
      ],
      "metadata": {
        "id": "W0zQwosnfaWT"
      },
      "execution_count": null,
      "outputs": []
    },
    {
      "cell_type": "markdown",
      "source": [
        "**Condition rules**"
      ],
      "metadata": {
        "id": "F9Hb2t4njqav"
      }
    },
    {
      "cell_type": "code",
      "source": [
        "# if, elif, else\n",
        "n = 15\n",
        "\n",
        "if n < 12:\n",
        "  print('Hello 1')\n",
        "\n",
        "elif 5 <= n <= 18:   # and condition's short form, n is greater than or equal to 5 and n is less than or equal to 18\n",
        "  print('Hello 2')\n",
        "\n",
        "elif n > 10:\n",
        "  print('Hello 3')\n",
        "\n",
        "else:\n",
        "  print('Hello 4')"
      ],
      "metadata": {
        "id": "9QZPsCEpjuGB"
      },
      "execution_count": null,
      "outputs": []
    },
    {
      "cell_type": "markdown",
      "source": [
        "**Python loops** @for, while"
      ],
      "metadata": {
        "id": "SaJO7YnRpXlO"
      }
    },
    {
      "cell_type": "code",
      "source": [
        "# The for loop in Python is used to iterate over a sequence (list, tuple, string) or other iterable objects. \n",
        "# Iterating over a sequence is called traversal.\n",
        "\n",
        "arr1 = [1, 3, 5, 7]\n",
        "\n",
        "for val in arr1:  # by using in, val holds direct value of array; another, for i,val in enumerate(arr1): \n",
        "  print(val, end=\" \")\n",
        "\n",
        "  if val == 3:\n",
        "    print(f'{val + 6}', end=\" \")\n",
        "\n",
        "else:\n",
        "  print('\\nAwesome!')\n",
        "\n",
        "\n",
        "# range() \n",
        "\n",
        "for i in range(10):   # by default range/loop start from 0 and end n-1, i holds index position\n",
        "  print(i, end=\" \")\n",
        "\n",
        "\n",
        "# range function take 3 parameter at most\n",
        "# 1. range(n)   // start: 0, end: n-1\n",
        "# 2. range(start, n-1)  // by default skip-step increament 1 \n",
        "# 3. range(start, n-1, skip-step)  //ex. (0, 10, 2) == 0, 2, 4, 6, 8\n",
        "print()\n",
        "\n",
        "arr2 = [1, 1, 2, 3, 5, 8]    # in python an array is called list, set is tuple, map/object is dictionary\n",
        "\n",
        "# 1\n",
        "for i in range( len(arr2) ):\n",
        "  print(i, end=\" \")\n",
        "\n",
        "# 2\n",
        "print()\n",
        "for i in range(1, len(arr2) ):\n",
        "  print(i, end=\" \")\n",
        "\n",
        "# 3\n",
        "print()\n",
        "for i in range(2, 10, 2):\n",
        "  print(i, end=\" \")\n",
        "\n",
        "\n",
        "\n",
        "# while loop\n",
        "print(\"\\nwhile loop : \")\n",
        "\n",
        "cnt = 0\n",
        "\n",
        "while cnt <= 10:                 # loop is true, till cnt is less than or equal 10\n",
        "  print(cnt, end=\" \", sep=\"-\")   # attention and see, print() defualt prevent parameters\n",
        "\n",
        "  cnt += 1\n",
        "\n",
        "else:\n",
        "  print('\\nDone!')\n",
        "\n"
      ],
      "metadata": {
        "id": "QOlGWOT-pRov"
      },
      "execution_count": null,
      "outputs": []
    },
    {
      "cell_type": "code",
      "source": [
        "arr2 = [1, 1, 2, 3, 5, 8]\n",
        "print(f'Type is {type(arr2)}, length is {len(arr2)}')\n",
        "\n",
        "sum = 0\n",
        "for i in range ( len(arr2) ):\n",
        "  print(arr2[i], end=\" \")\n",
        "\n",
        "  if arr2[i] == 5:\n",
        "    print( arr2[i] + 1, end=\" \" )\n",
        "    pass\n",
        "\n",
        "  sum += arr2[i]\n",
        "\n",
        "print(\"\\nThe sum is : \",sum)\n",
        "\n",
        "\n",
        "# dictionary ( key, value )\n",
        "st_name = \"sabbirr\"\n",
        "student = {\"name\": \"sabbir\", \"age\": 23, \"dept\": \"CSE\", \"id\": 185}\n",
        "\n",
        "for i,val in enumerate(student):\n",
        "\n",
        "  if student[\"name\"] == st_name:\n",
        "    print(student[\"dept\"])\n",
        "    break\n",
        "\n",
        "  else:\n",
        "    print('index : ',i, \" key : \", val)\n",
        "    continue\n"
      ],
      "metadata": {
        "id": "NUOhKiv0417d"
      },
      "execution_count": null,
      "outputs": []
    },
    {
      "cell_type": "markdown",
      "source": [
        "**Python function**"
      ],
      "metadata": {
        "id": "9TblQXFl3qzn"
      }
    },
    {
      "cell_type": "code",
      "source": [
        ""
      ],
      "metadata": {
        "id": "Bhv0vpgx3u1M"
      },
      "execution_count": null,
      "outputs": []
    },
    {
      "cell_type": "markdown",
      "source": [
        "**Data structure**"
      ],
      "metadata": {
        "id": "8JUp8KFC3z1l"
      }
    },
    {
      "cell_type": "code",
      "source": [
        ""
      ],
      "metadata": {
        "id": "6OGiJ_124KqG"
      },
      "execution_count": null,
      "outputs": []
    },
    {
      "cell_type": "markdown",
      "source": [
        "**OOP**"
      ],
      "metadata": {
        "id": "BeMajrYC4Lie"
      }
    },
    {
      "cell_type": "code",
      "source": [
        ""
      ],
      "metadata": {
        "id": "PRGVyIRl4PuI"
      },
      "execution_count": null,
      "outputs": []
    },
    {
      "cell_type": "markdown",
      "source": [
        "**Advance topics**"
      ],
      "metadata": {
        "id": "0_QPujI-4Z41"
      }
    },
    {
      "cell_type": "code",
      "source": [
        ""
      ],
      "metadata": {
        "id": "B-5wzjmd4djo"
      },
      "execution_count": null,
      "outputs": []
    },
    {
      "cell_type": "markdown",
      "source": [
        "**Date time**"
      ],
      "metadata": {
        "id": "NOmJGjsm4gQ8"
      }
    },
    {
      "cell_type": "code",
      "source": [
        ""
      ],
      "metadata": {
        "id": "_yyT7jS14j2I"
      },
      "execution_count": null,
      "outputs": []
    },
    {
      "cell_type": "markdown",
      "source": [
        "**Random topics**"
      ],
      "metadata": {
        "id": "b4VewYmN4qMd"
      }
    },
    {
      "cell_type": "code",
      "source": [
        ""
      ],
      "metadata": {
        "id": "F4LpD-eY4tZH"
      },
      "execution_count": null,
      "outputs": []
    }
  ]
}